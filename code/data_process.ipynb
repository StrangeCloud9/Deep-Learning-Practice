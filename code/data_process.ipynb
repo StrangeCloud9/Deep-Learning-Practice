{
 "cells": [
  {
   "cell_type": "code",
   "execution_count": 1,
   "metadata": {},
   "outputs": [],
   "source": [
    "import paths\n",
    "import config\n",
    "\n",
    "import numpy as np\n",
    "import torch\n",
    "from torch.utils.data import TensorDataset, DataLoader"
   ]
  },
  {
   "cell_type": "code",
   "execution_count": 8,
   "metadata": {},
   "outputs": [],
   "source": [
    "data_prefix = \"../data/\"\n",
    "train_data = data_prefix+\"train.npy\"\n",
    "train_labels = data_prefix+\"train_labels.npy\"\n",
    "valid_data = data_prefix+\"dev.npy\"\n",
    "valid_labels = data_prefix+\"dev_labels.npy\"\n",
    "test_data = data_prefix+\"test.npy\"\n",
    "test_labels = data_prefix+\"test_labels.npy\"\n",
    "\n",
    "model = \"../model/model_dict.pt\""
   ]
  },
  {
   "cell_type": "code",
   "execution_count": 23,
   "metadata": {},
   "outputs": [],
   "source": [
    "mode = 'train'\n",
    "paths.train_data = train_data\n",
    "paths.train_labels = train_labels\n",
    "if mode == \"train\":\n",
    "    data_path = paths.train_data\n",
    "    labels_path = paths.train_labels\n",
    "    shuffle = True\n",
    "if mode == \"val\":\n",
    "    data_path = paths.valid_data\n",
    "    labels_path = paths.valid_labels\n",
    "    shuffle = False\n",
    "if mode == \"test\":\n",
    "    data_path = paths.test_data\n",
    "    labels_path = None\n",
    "    shuffle = False\n",
    "data = np.load(data_path)\n",
    "if config.sanity:\n",
    "    data = data[:150]\n",
    "\n",
    "#padding the data\n"
   ]
  },
  {
   "cell_type": "code",
   "execution_count": 24,
   "metadata": {},
   "outputs": [
    {
     "name": "stdout",
     "output_type": "stream",
     "text": [
      "150 477 40\n",
      "<class 'numpy.ndarray'> <class 'numpy.ndarray'> <class 'numpy.ndarray'> <class 'numpy.float32'>\n"
     ]
    }
   ],
   "source": [
    "print (len(data), len(data[0]), len(data[0][0]))\n",
    "print (type(data), type(data[0]), type(data[0][0]), type(data[0][0][0]))\n"
   ]
  },
  {
   "cell_type": "code",
   "execution_count": 30,
   "metadata": {},
   "outputs": [
    {
     "name": "stdout",
     "output_type": "stream",
     "text": [
      "(150,) (150,) <class 'numpy.ndarray'> <class 'numpy.ndarray'>\n",
      "(3, 3, 3)\n",
      "<class 'numpy.ndarray'>\n"
     ]
    },
    {
     "ename": "TypeError",
     "evalue": "can't convert np.ndarray of type numpy.object_. The only supported types are: float64, float32, float16, int64, int32, int16, int8, uint8, and bool.",
     "output_type": "error",
     "traceback": [
      "\u001b[0;31m---------------------------------------------------------------------------\u001b[0m",
      "\u001b[0;31mTypeError\u001b[0m                                 Traceback (most recent call last)",
      "\u001b[0;32m<ipython-input-30-b89917d4de5e>\u001b[0m in \u001b[0;36m<module>\u001b[0;34m\u001b[0m\n\u001b[1;32m      9\u001b[0m     \u001b[0mprint\u001b[0m \u001b[0;34m(\u001b[0m\u001b[0mtype\u001b[0m\u001b[0;34m(\u001b[0m\u001b[0mtmp\u001b[0m\u001b[0;34m)\u001b[0m\u001b[0;34m)\u001b[0m\u001b[0;34m\u001b[0m\u001b[0;34m\u001b[0m\u001b[0m\n\u001b[1;32m     10\u001b[0m     \u001b[0mtmp\u001b[0m \u001b[0;34m=\u001b[0m \u001b[0mtorch\u001b[0m\u001b[0;34m.\u001b[0m\u001b[0mfrom_numpy\u001b[0m\u001b[0;34m(\u001b[0m\u001b[0mtmp\u001b[0m\u001b[0;34m)\u001b[0m\u001b[0;34m.\u001b[0m\u001b[0mtype\u001b[0m\u001b[0;34m(\u001b[0m\u001b[0mtorch\u001b[0m\u001b[0;34m.\u001b[0m\u001b[0mfloat32\u001b[0m\u001b[0;34m)\u001b[0m\u001b[0;34m\u001b[0m\u001b[0;34m\u001b[0m\u001b[0m\n\u001b[0;32m---> 11\u001b[0;31m     \u001b[0mlabels\u001b[0m \u001b[0;34m=\u001b[0m \u001b[0mtorch\u001b[0m\u001b[0;34m.\u001b[0m\u001b[0mfrom_numpy\u001b[0m\u001b[0;34m(\u001b[0m\u001b[0mlabels\u001b[0m\u001b[0;34m)\u001b[0m\u001b[0;34m.\u001b[0m\u001b[0mtype\u001b[0m\u001b[0;34m(\u001b[0m\u001b[0mtorch\u001b[0m\u001b[0;34m.\u001b[0m\u001b[0mLongTensor\u001b[0m\u001b[0;34m)\u001b[0m\u001b[0;34m\u001b[0m\u001b[0;34m\u001b[0m\u001b[0m\n\u001b[0m\u001b[1;32m     12\u001b[0m \u001b[0mprint\u001b[0m \u001b[0;34m(\u001b[0m\u001b[0mlen\u001b[0m\u001b[0;34m(\u001b[0m\u001b[0mdata\u001b[0m\u001b[0;34m)\u001b[0m\u001b[0;34m)\u001b[0m\u001b[0;34m\u001b[0m\u001b[0;34m\u001b[0m\u001b[0m\n",
      "\u001b[0;31mTypeError\u001b[0m: can't convert np.ndarray of type numpy.object_. The only supported types are: float64, float32, float16, int64, int32, int16, int8, uint8, and bool."
     ]
    }
   ],
   "source": [
    "if labels_path:\n",
    "    labels = np.load(labels_path)\n",
    "    if config.sanity:\n",
    "        labels = labels[:150]\n",
    "\n",
    "    print(data.shape, labels.shape, type(data), type(labels), )\n",
    "    tmp = np.zeros(3 * 3 * 3 ).reshape((3, 3, 3))\n",
    "    print (tmp.shape)\n",
    "    print (type(tmp))\n",
    "    tmp = torch.from_numpy(tmp).type(torch.float32)\n",
    "    labels = torch.from_numpy(labels).type(torch.LongTensor)\n",
    "print (len(data))\n"
   ]
  },
  {
   "cell_type": "code",
   "execution_count": 38,
   "metadata": {},
   "outputs": [
    {
     "name": "stdout",
     "output_type": "stream",
     "text": [
      "[[0. 0. 0. 0. 0. 0. 0. 0. 0.]\n",
      " [0. 0. 0. 0. 0. 0. 0. 0. 0.]\n",
      " [0. 0. 0. 0. 0. 0. 0. 0. 0.]\n",
      " [0. 0. 0. 0. 0. 0. 0. 0. 0.]\n",
      " [0. 0. 0. 0. 0. 0. 0. 0. 0.]\n",
      " [0. 0. 0. 0. 0. 0. 0. 0. 0.]\n",
      " [0. 0. 0. 0. 0. 0. 0. 0. 0.]\n",
      " [0. 0. 0. 0. 0. 0. 0. 0. 0.]\n",
      " [0. 0. 0. 0. 0. 0. 0. 0. 0.]]\n",
      "[[1. 1. 1. 1. 1. 1. 1. 1. 1. 1. 1.]\n",
      " [1. 1. 1. 1. 1. 1. 1. 1. 1. 1. 1.]\n",
      " [1. 0. 0. 0. 0. 0. 0. 0. 0. 0. 1.]\n",
      " [1. 0. 0. 0. 0. 0. 0. 0. 0. 0. 1.]\n",
      " [1. 0. 0. 0. 0. 0. 0. 0. 0. 0. 1.]\n",
      " [1. 0. 0. 0. 0. 0. 0. 0. 0. 0. 1.]\n",
      " [1. 0. 0. 0. 0. 0. 0. 0. 0. 0. 1.]\n",
      " [1. 0. 0. 0. 0. 0. 0. 0. 0. 0. 1.]\n",
      " [1. 0. 0. 0. 0. 0. 0. 0. 0. 0. 1.]\n",
      " [1. 0. 0. 0. 0. 0. 0. 0. 0. 0. 1.]\n",
      " [1. 0. 0. 0. 0. 0. 0. 0. 0. 0. 1.]\n",
      " [1. 1. 1. 1. 1. 1. 1. 1. 1. 1. 1.]\n",
      " [1. 1. 1. 1. 1. 1. 1. 1. 1. 1. 1.]\n",
      " [1. 1. 1. 1. 1. 1. 1. 1. 1. 1. 1.]]\n",
      "[0. 0. 0. 0. 0. 0. 0. 0. 0. 0. 0. 0. 0. 0. 0. 0. 0. 0. 0. 0. 0. 0. 0. 0.\n",
      " 0. 0. 0. 0. 0. 0. 0. 0. 0. 0. 0. 0. 0. 0. 0. 0. 0. 0. 0. 0. 0. 0. 0. 0.\n",
      " 0. 0. 0. 0. 0. 0. 0. 0. 0. 0. 0. 0. 0. 0. 0. 0. 0. 0. 0. 0. 0. 0. 0. 0.\n",
      " 0. 0. 0. 0. 0. 0. 0. 0. 0.]\n",
      "[0. 0. 0. 0. 0. 0. 0. 0. 0. 0. 0. 0. 0. 0. 0. 0. 0. 0. 0. 0. 0. 0. 0. 0.\n",
      " 0. 0. 0. 0. 0. 0. 0. 0. 0. 0. 0. 0. 0. 0. 0. 0. 0. 0. 0. 0. 0. 0. 0. 0.\n",
      " 0. 0. 0. 0. 0. 0. 0. 0. 0. 0. 0. 0. 0. 0. 0. 0. 0. 0. 0. 0. 0. 0. 0. 0.\n",
      " 0. 0. 0. 0. 0. 0. 0. 0. 0.]\n",
      "81\n"
     ]
    }
   ],
   "source": [
    "a = np.zeros((9, 9))\n",
    "print (a)\n",
    "print (np.pad(a, ((2, 3), (1, 1)), 'constant', constant_values=1))\n",
    "a = a.reshape(-1)\n",
    "print (a.reshape(-1))\n",
    "a = np.array(a)\n",
    "print (a)\n",
    "a = np.array(a)\n",
    "print (len(a))"
   ]
  },
  {
   "cell_type": "code",
   "execution_count": 1,
   "metadata": {},
   "outputs": [],
   "source": [
    "import data\n",
    "import mlpmodel\n",
    "import routine\n",
    "import config\n",
    "import numpy as np"
   ]
  },
  {
   "cell_type": "code",
   "execution_count": 2,
   "metadata": {},
   "outputs": [
    {
     "name": "stdout",
     "output_type": "stream",
     "text": [
      "1024\n"
     ]
    }
   ],
   "source": [
    "print (config.hidden_size)"
   ]
  },
  {
   "cell_type": "code",
   "execution_count": 3,
   "metadata": {},
   "outputs": [
    {
     "ename": "FileNotFoundError",
     "evalue": "[Errno 2] No such file or directory: '../data/train.npy'",
     "output_type": "error",
     "traceback": [
      "\u001b[0;31m---------------------------------------------------------------------------\u001b[0m",
      "\u001b[0;31mFileNotFoundError\u001b[0m                         Traceback (most recent call last)",
      "\u001b[0;32m<ipython-input-3-cfee5b3c0e08>\u001b[0m in \u001b[0;36m<module>\u001b[0;34m\u001b[0m\n\u001b[0;32m----> 1\u001b[0;31m \u001b[0mtrain_loader\u001b[0m \u001b[0;34m=\u001b[0m \u001b[0mdata\u001b[0m\u001b[0;34m.\u001b[0m\u001b[0mget_loader\u001b[0m\u001b[0;34m(\u001b[0m\u001b[0;34m\"train\"\u001b[0m\u001b[0;34m)\u001b[0m\u001b[0;34m\u001b[0m\u001b[0;34m\u001b[0m\u001b[0m\n\u001b[0m\u001b[1;32m      2\u001b[0m \u001b[0mval_loader\u001b[0m \u001b[0;34m=\u001b[0m \u001b[0mdata\u001b[0m\u001b[0;34m.\u001b[0m\u001b[0mget_loader\u001b[0m\u001b[0;34m(\u001b[0m\u001b[0;34m\"val\"\u001b[0m\u001b[0;34m)\u001b[0m\u001b[0;34m\u001b[0m\u001b[0;34m\u001b[0m\u001b[0m\n\u001b[1;32m      3\u001b[0m \u001b[0mtest_loader\u001b[0m \u001b[0;34m=\u001b[0m \u001b[0mdata\u001b[0m\u001b[0;34m.\u001b[0m\u001b[0mget_loader\u001b[0m\u001b[0;34m(\u001b[0m\u001b[0;34m\"test\"\u001b[0m\u001b[0;34m)\u001b[0m\u001b[0;34m\u001b[0m\u001b[0;34m\u001b[0m\u001b[0m\n",
      "\u001b[0;32m~/Documents/course/deep_learning/hwp2/start_code/code/data.py\u001b[0m in \u001b[0;36mget_loader\u001b[0;34m(mode)\u001b[0m\n\u001b[1;32m     65\u001b[0m         \u001b[0mlabels_path\u001b[0m \u001b[0;34m=\u001b[0m \u001b[0;32mNone\u001b[0m\u001b[0;34m\u001b[0m\u001b[0;34m\u001b[0m\u001b[0m\n\u001b[1;32m     66\u001b[0m         \u001b[0mshuffle\u001b[0m \u001b[0;34m=\u001b[0m \u001b[0;32mFalse\u001b[0m\u001b[0;34m\u001b[0m\u001b[0;34m\u001b[0m\u001b[0m\n\u001b[0;32m---> 67\u001b[0;31m     \u001b[0mdata\u001b[0m \u001b[0;34m=\u001b[0m \u001b[0mnp\u001b[0m\u001b[0;34m.\u001b[0m\u001b[0mload\u001b[0m\u001b[0;34m(\u001b[0m\u001b[0mdata_path\u001b[0m\u001b[0;34m)\u001b[0m\u001b[0;34m\u001b[0m\u001b[0;34m\u001b[0m\u001b[0m\n\u001b[0m\u001b[1;32m     68\u001b[0m \u001b[0;34m\u001b[0m\u001b[0m\n\u001b[1;32m     69\u001b[0m     \u001b[0;32mif\u001b[0m \u001b[0mconfig\u001b[0m\u001b[0;34m.\u001b[0m\u001b[0msanity\u001b[0m\u001b[0;34m:\u001b[0m\u001b[0;34m\u001b[0m\u001b[0;34m\u001b[0m\u001b[0m\n",
      "\u001b[0;32m/anaconda3/lib/python3.7/site-packages/numpy/lib/npyio.py\u001b[0m in \u001b[0;36mload\u001b[0;34m(file, mmap_mode, allow_pickle, fix_imports, encoding)\u001b[0m\n\u001b[1;32m    413\u001b[0m         \u001b[0mown_fid\u001b[0m \u001b[0;34m=\u001b[0m \u001b[0;32mFalse\u001b[0m\u001b[0;34m\u001b[0m\u001b[0;34m\u001b[0m\u001b[0m\n\u001b[1;32m    414\u001b[0m     \u001b[0;32melse\u001b[0m\u001b[0;34m:\u001b[0m\u001b[0;34m\u001b[0m\u001b[0;34m\u001b[0m\u001b[0m\n\u001b[0;32m--> 415\u001b[0;31m         \u001b[0mfid\u001b[0m \u001b[0;34m=\u001b[0m \u001b[0mopen\u001b[0m\u001b[0;34m(\u001b[0m\u001b[0mos_fspath\u001b[0m\u001b[0;34m(\u001b[0m\u001b[0mfile\u001b[0m\u001b[0;34m)\u001b[0m\u001b[0;34m,\u001b[0m \u001b[0;34m\"rb\"\u001b[0m\u001b[0;34m)\u001b[0m\u001b[0;34m\u001b[0m\u001b[0;34m\u001b[0m\u001b[0m\n\u001b[0m\u001b[1;32m    416\u001b[0m         \u001b[0mown_fid\u001b[0m \u001b[0;34m=\u001b[0m \u001b[0;32mTrue\u001b[0m\u001b[0;34m\u001b[0m\u001b[0;34m\u001b[0m\u001b[0m\n\u001b[1;32m    417\u001b[0m \u001b[0;34m\u001b[0m\u001b[0m\n",
      "\u001b[0;31mFileNotFoundError\u001b[0m: [Errno 2] No such file or directory: '../data/train.npy'"
     ]
    }
   ],
   "source": [
    "train_loader = data.get_loader(\"train\")\n",
    "val_loader = data.get_loader(\"val\")\n",
    "test_loader = data.get_loader(\"test\")"
   ]
  },
  {
   "cell_type": "code",
   "execution_count": 4,
   "metadata": {},
   "outputs": [],
   "source": [
    "if config.load_model:\n",
    "    model = mlpmodel.MLP.load()\n",
    "else:\n",
    "    model = mlpmodel.MLP(config.input_size, config.hidden_size, config.output_size, config.CUDA)\n"
   ]
  },
  {
   "cell_type": "code",
   "execution_count": 5,
   "metadata": {},
   "outputs": [
    {
     "name": "stdout",
     "output_type": "stream",
     "text": [
      "torch.Size([32, 1000]) torch.Size([32])\n",
      "torch.Size([32, 1000]) torch.Size([32])\n",
      "torch.Size([32, 1000]) torch.Size([32])\n",
      "torch.Size([32, 1000]) torch.Size([32])\n",
      "torch.Size([32, 1000]) torch.Size([32])\n",
      "torch.Size([32, 1000]) torch.Size([32])\n",
      "torch.Size([32, 1000]) torch.Size([32])\n",
      "torch.Size([32, 1000]) torch.Size([32])\n",
      "torch.Size([32, 1000]) torch.Size([32])\n",
      "torch.Size([32, 1000]) torch.Size([32])\n",
      "torch.Size([32, 1000]) torch.Size([32])\n",
      "torch.Size([32, 1000]) torch.Size([32])\n",
      "torch.Size([32, 1000]) torch.Size([32])\n",
      "torch.Size([32, 1000]) torch.Size([32])\n",
      "torch.Size([32, 1000]) torch.Size([32])\n",
      "torch.Size([32, 1000]) torch.Size([32])\n",
      "torch.Size([32, 1000]) torch.Size([32])\n",
      "torch.Size([32, 1000]) torch.Size([32])\n",
      "torch.Size([32, 1000]) torch.Size([32])\n",
      "torch.Size([32, 1000]) torch.Size([32])\n",
      "torch.Size([32, 1000]) torch.Size([32])\n",
      "torch.Size([32, 1000]) torch.Size([32])\n",
      "torch.Size([32, 1000]) torch.Size([32])\n",
      "torch.Size([32, 1000]) torch.Size([32])\n",
      "torch.Size([32, 1000]) torch.Size([32])\n",
      "torch.Size([32, 1000]) torch.Size([32])\n",
      "torch.Size([32, 1000]) torch.Size([32])\n",
      "torch.Size([32, 1000]) torch.Size([32])\n",
      "torch.Size([23, 1000]) torch.Size([23])\n"
     ]
    }
   ],
   "source": []
  },
  {
   "cell_type": "code",
   "execution_count": 5,
   "metadata": {},
   "outputs": [
    {
     "name": "stdout",
     "output_type": "stream",
     "text": [
      "begin training\n",
      "Epoch 1\n",
      "Training loss : 4.044030608802006\n",
      "Validation loss : 4.6022375002503395\n",
      "Epoch 2\n",
      "Training loss : 3.4429340280335525\n",
      "Validation loss : 4.601064162121879\n",
      "Epoch 3\n",
      "Training loss : 3.387573061318233\n",
      "Validation loss : 4.53630162941085\n",
      "Epoch 4\n",
      "Training loss : 3.24060609422881\n",
      "Validation loss : 4.5351868371168775\n",
      "Epoch 5\n",
      "Training loss : 3.10230723742781\n",
      "Validation loss : 4.462813617454635\n",
      "Epoch 6\n",
      "Training loss : 3.055833438347126\n",
      "Validation loss : 4.6428190271059675\n",
      "Epoch 7\n",
      "Training loss : 3.038285197882817\n",
      "Validation loss : 4.990308544702\n",
      "Epoch 8\n",
      "Training loss : 3.035525050656549\n",
      "Validation loss : 5.07477699385749\n",
      "Early stopping !\n"
     ]
    }
   ],
   "source": [
    "routine.train(model, train_loader, val_loader)"
   ]
  },
  {
   "cell_type": "code",
   "execution_count": 7,
   "metadata": {},
   "outputs": [],
   "source": [
    "test_outputs = routine.predict(model, test_loader)"
   ]
  },
  {
   "cell_type": "code",
   "execution_count": 14,
   "metadata": {},
   "outputs": [
    {
     "name": "stdout",
     "output_type": "stream",
     "text": [
      "[108 108 108 108 108 108 108 108 108 110 110 110  11  11  11  11  18  18\n",
      "  18  18  18  18  18  18  27  27  28  28  28  28  28  28  28  28  28  28\n",
      "  28  28  34  34  34  52  52  52  35  35 102 102 102 102  75  75  82  82\n",
      "  82  82  89  80 104  51  51  67 102  68 124  58  58  18  18  18  18  27\n",
      "  51  51  28  28  28  28  52  52  52  52  35  35 102 102 102 102  75  75\n",
      "  75 133 133  83  83  24  24  24  51  26 102  68 124  79  58  18 120 127\n",
      "  34  52  52  52  52  52  25  23  53 102  75  75  75 133 125 125 125 125\n",
      "  77 104 104 104 104 111  85 112 112  18  18  18  27  27  27  27  28 120\n",
      " 120  28  52  52  52  52  52  53  53  53  53  75  75  75   5 125 125   5\n",
      "   5 111 111 104 104  66  66  18  67  68  68  68 104  18  18  18  18  18\n",
      "  51  51  28  28  28  28  28  28  28  28  52  52  52  52  35 102 102  81\n",
      "  81  75  82  82 125 125 125  24  51  51 101  26 102  81  58  58  58  58\n",
      "  58 104 126 127 127  24  52  52  52  52  52  26  26 102  81  75  75  82\n",
      " 103 103 103  83  83  51  51  51  25  52  52  52  28  28  52  56  35  81\n",
      " 102 102 102 102 103 103 103 103  83  33 127  52  52  52  52  52  22  52\n",
      "  53  53  53  75  75  75   5   5   5 125 125 112  44 104 104 104 113 113\n",
      " 113 120 120 120 120 120  25  52  52  52  53  53  53  53  53  53 108 125\n",
      " 103 103   5   5   5   5 111 104  18  18  21  24  24  24  25  25  25 121\n",
      "  26  81  81  81  75 133 133 134  24  24  80  80 102 102 102 124 124  37\n",
      "  37  18 120  21  22  22  22  22  22  53  53  53  53  75  75  75 125 125\n",
      " 125 103 130 104 104 104 104  18  18 120 120  52  52  52  52  52  52  53\n",
      "  53  53  53  75  75   5   5 125 125 103 130 130 104 104 104  27  18 120\n",
      " 120  28  28  28  28  28  28  28  28  28  70  70  70  70  70  70  70  52\n",
      "  52  52  53  53  53  53  53  53  75  75  75   5   5 109 109 110 110 110\n",
      "  46  46 110 110 110 110 110 108 108 108 108 108 108 108 108 108 108 108\n",
      " 108 108 108 108 108 108 108 108 108 108 108 108 108 108 108 108 108 108\n",
      " 108 108 108 108 108 108 108 108 108 108 108 108 108 108 108 110 110 110\n",
      " 110 110 110  46 108 108 109 109 109 109 109 109 109  10 104 104  18  18\n",
      "  18  18  18  18  27  28  28  28  28  28  28  28  28  28  35  35 102 102\n",
      " 102  81  81  81 102 102 102  53 133  53 101 101 101 101 102   5  58  58\n",
      "  58  58  58  58  18  18  18  27  27  27  28  28  28  28  28  28  28  28\n",
      "  28  28  28  70  70  70  70  70  70  70  70  70  70  70  70  70  70  70\n",
      "  70  70 102 102 102 102 102 102 102  81 103 103 103 103 103 104  83  51\n",
      "  51  28  28  28  28  28  28  28  28  28  28  28  28  34  52  52  52  52\n",
      "  52  52  53  53  53  53  75  75  75  75  76  76 109 109 109 108 110 110\n",
      " 110 110 108 108 108 108 108 108 108 111 111 109 112 112 112  18  18 104\n",
      "  27  27  27  27 120  28  28  34  34  34  28  28  28  81  81 102 102 102\n",
      "  81  81  81  70  70  70  52  52  52  52  52  52  53  53 102 102  75  75\n",
      " 103 103  82 133 133 133 104  46  24  24  24  24 101 123  75  75 111 125\n",
      " 125 125  58  58 104 104 104  27  27 120 120 120  52  52  52  52  52  26\n",
      "  26  53  75  75  75  75 125 125 125 103 130 104 104 104 104 113 113 120\n",
      " 120 120 120  24  25  52  52  52  52  53  53  53 125  53  53  75   5  75\n",
      " 111 111 110 110  66  66  66 109 109  10 104 104 104  85  86 120  21  21\n",
      "  24  24  24  25  25  25  26  26  53  75  75 125 125 125 103  80 102 123\n",
      " 123 123 133 120 120  24  24  24 101 101 101 123  53   8 133 133 108 125\n",
      " 108  66  66   4   5 111 111 111 110 110 110  46  46  66  66  66  67  67\n",
      "  68  68  85  86  86 120 120  24  24  22  22  22  22  22  53  53  53  75\n",
      "  75  75   5   5   5   5  76  44  46 110 110 110 110 110 110 108 108 108\n",
      " 108 108 108 108 108 108 108 108 108 108 108 108 108 108 108 108 108 108\n",
      " 108 108 108 108 108 108 108 108 108 108 108 108 108 108 108 108 108 108\n",
      " 108 108 108 110 110 110 110 110  46]\n"
     ]
    }
   ],
   "source": [
    "print((test_outputs))"
   ]
  },
  {
   "cell_type": "code",
   "execution_count": 20,
   "metadata": {},
   "outputs": [],
   "source": [
    "import csv\n",
    "def writecsv(file,filename,flag=3):\n",
    "    csvfile = open(filename, 'w')\n",
    "    writer = csv.writer(csvfile,lineterminator='\\n')\n",
    "    #0 nodes , 1 = edgees\n",
    "    for i, line in enumerate(file):\n",
    "        writer.writerow((i,line))\n",
    "    csvfile.close()"
   ]
  },
  {
   "cell_type": "code",
   "execution_count": 21,
   "metadata": {},
   "outputs": [],
   "source": [
    "writecsv(test_outputs, 'prediction.csv')"
   ]
  },
  {
   "cell_type": "code",
   "execution_count": 15,
   "metadata": {},
   "outputs": [],
   "source": [
    "try:\n",
    "    np.savetxt('prediction.csv', test_outputs, delimiter=\",\")\n",
    "except:\n",
    "    print(\"prediction not saved\")"
   ]
  },
  {
   "cell_type": "code",
   "execution_count": null,
   "metadata": {},
   "outputs": [],
   "source": []
  }
 ],
 "metadata": {
  "kernelspec": {
   "display_name": "Python 3",
   "language": "python",
   "name": "python3"
  },
  "language_info": {
   "codemirror_mode": {
    "name": "ipython",
    "version": 3
   },
   "file_extension": ".py",
   "mimetype": "text/x-python",
   "name": "python",
   "nbconvert_exporter": "python",
   "pygments_lexer": "ipython3",
   "version": "3.7.3"
  }
 },
 "nbformat": 4,
 "nbformat_minor": 2
}
